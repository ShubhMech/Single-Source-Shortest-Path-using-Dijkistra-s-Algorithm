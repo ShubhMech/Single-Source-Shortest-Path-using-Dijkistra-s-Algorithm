{
 "cells": [
  {
   "cell_type": "code",
   "execution_count": 65,
   "id": "986b5958-9179-4720-bbc7-e5a19ab42c9e",
   "metadata": {},
   "outputs": [],
   "source": [
    "class Graph:\n",
    "    def __init__(self,vertices):\n",
    "        self.vertices= vertices\n",
    "        self.graph=[0 for i in range(self.vertices)\n",
    "            for j in range(self.vertices)]\n",
    "                \n",
    "    def result(self):\n",
    "        print(\"Min Distance from respective Sources is :\")\n",
    "        for node in range(self.vertices):\n",
    "            print(\"Distance from the given source to other vertices is: \", self.dist[node])\n",
    " \n",
    "    \n",
    "    def min_dist(self,dist,visited):\n",
    "        min= 10e7\n",
    "        for i in range(self.vertices):\n",
    "            if dist[i]<min and visited[i]== False:\n",
    "                min= dist[i]\n",
    "                min_index= i\n",
    "                \n",
    "        return min_index\n",
    "    \n",
    "    \n",
    "    def djkistra(self,src):\n",
    "        self.dist = [1e7] * self.vertices\n",
    "        self.dist[src] = 0\n",
    "        self.visited = [False] * self.vertices\n",
    "        \n",
    "        for i in range(self.vertices):\n",
    "            \n",
    "        \n",
    "            u= self.min_dist(self.dist, self.visited)\n",
    "            self.visited[u]= True\n",
    "            \n",
    "            for j in range(self.vertices):\n",
    "                if (self.graph[u][j] > 0 and self.visited[j] == False and self.dist[j] > self.dist[u] + self.graph[u][j]):\n",
    "                    self.dist[j] = self.dist[u] + self.graph[u][j]\n",
    "                \n",
    "        \n",
    "        self.result()\n",
    "        "
   ]
  },
  {
   "cell_type": "code",
   "execution_count": 66,
   "id": "af41f482-8731-4675-9781-2a9962845397",
   "metadata": {},
   "outputs": [],
   "source": [
    "ob2=Graph(9)"
   ]
  },
  {
   "cell_type": "code",
   "execution_count": 67,
   "id": "b5c1b52e-3c40-43e6-81c1-f9c63b154dea",
   "metadata": {},
   "outputs": [
    {
     "data": {
      "text/plain": [
       "[0,\n",
       " 0,\n",
       " 0,\n",
       " 0,\n",
       " 0,\n",
       " 0,\n",
       " 0,\n",
       " 0,\n",
       " 0,\n",
       " 0,\n",
       " 0,\n",
       " 0,\n",
       " 0,\n",
       " 0,\n",
       " 0,\n",
       " 0,\n",
       " 0,\n",
       " 0,\n",
       " 0,\n",
       " 0,\n",
       " 0,\n",
       " 0,\n",
       " 0,\n",
       " 0,\n",
       " 0,\n",
       " 0,\n",
       " 0,\n",
       " 0,\n",
       " 0,\n",
       " 0,\n",
       " 0,\n",
       " 0,\n",
       " 0,\n",
       " 0,\n",
       " 0,\n",
       " 0,\n",
       " 0,\n",
       " 0,\n",
       " 0,\n",
       " 0,\n",
       " 0,\n",
       " 0,\n",
       " 0,\n",
       " 0,\n",
       " 0,\n",
       " 0,\n",
       " 0,\n",
       " 0,\n",
       " 0,\n",
       " 0,\n",
       " 0,\n",
       " 0,\n",
       " 0,\n",
       " 0,\n",
       " 0,\n",
       " 0,\n",
       " 0,\n",
       " 0,\n",
       " 0,\n",
       " 0,\n",
       " 0,\n",
       " 0,\n",
       " 0,\n",
       " 0,\n",
       " 0,\n",
       " 0,\n",
       " 0,\n",
       " 0,\n",
       " 0,\n",
       " 0,\n",
       " 0,\n",
       " 0,\n",
       " 0,\n",
       " 0,\n",
       " 0,\n",
       " 0,\n",
       " 0,\n",
       " 0,\n",
       " 0,\n",
       " 0,\n",
       " 0]"
      ]
     },
     "execution_count": 67,
     "metadata": {},
     "output_type": "execute_result"
    }
   ],
   "source": [
    "ob2.graph"
   ]
  },
  {
   "cell_type": "code",
   "execution_count": 68,
   "id": "95849410-81b0-48e2-81b6-6c70bdb87066",
   "metadata": {},
   "outputs": [
    {
     "name": "stdout",
     "output_type": "stream",
     "text": [
      "Min Distance from respective Sources is :\n",
      "Distance from the given source to other vertices is:  21\n",
      "Distance from the given source to other vertices is:  22\n",
      "Distance from the given source to other vertices is:  14\n",
      "Distance from the given source to other vertices is:  9\n",
      "Distance from the given source to other vertices is:  0\n",
      "Distance from the given source to other vertices is:  10\n",
      "Distance from the given source to other vertices is:  12\n",
      "Distance from the given source to other vertices is:  13\n",
      "Distance from the given source to other vertices is:  16\n"
     ]
    }
   ],
   "source": [
    "\n",
    "ob2.graph = [[0, 4, 0, 0, 0, 0, 0, 8, 0],\n",
    "           [4, 0, 8, 0, 0, 0, 0, 11, 0],\n",
    "           [0, 8, 0, 7, 0, 4, 0, 0, 2],\n",
    "           [0, 0, 7, 0, 9, 14, 0, 0, 0],\n",
    "           [0, 0, 0, 9, 0, 10, 0, 0, 0],\n",
    "           [0, 0, 4, 14, 10, 0, 2, 0, 0],\n",
    "           [0, 0, 0, 0, 0, 2, 0, 1, 6],\n",
    "           [8, 11, 0, 0, 0, 0, 1, 0, 7],\n",
    "           [0, 0, 2, 0, 0, 0, 6, 7, 0]\n",
    "           ]\n",
    " \n",
    "ob2.djkistra(4)"
   ]
  },
  {
   "cell_type": "code",
   "execution_count": null,
   "id": "5e8c6b63-38bf-4ef8-a146-7e38ba0f3525",
   "metadata": {},
   "outputs": [],
   "source": []
  },
  {
   "cell_type": "code",
   "execution_count": null,
   "id": "c6138fd4-be33-4ef5-830f-797b4636a609",
   "metadata": {},
   "outputs": [],
   "source": []
  },
  {
   "cell_type": "code",
   "execution_count": null,
   "id": "84544f04-782c-4116-8ebd-9a5059ee42a7",
   "metadata": {},
   "outputs": [],
   "source": []
  },
  {
   "cell_type": "code",
   "execution_count": null,
   "id": "df6f7386-cb4b-40be-ad95-8824e2db39fb",
   "metadata": {},
   "outputs": [],
   "source": []
  },
  {
   "cell_type": "code",
   "execution_count": null,
   "id": "619659e5-808b-4b88-9f7d-08a23e54b82c",
   "metadata": {},
   "outputs": [],
   "source": []
  },
  {
   "cell_type": "code",
   "execution_count": null,
   "id": "51d43bc2-77df-4300-b08b-3e5aa9eecfb8",
   "metadata": {},
   "outputs": [],
   "source": []
  }
 ],
 "metadata": {
  "kernelspec": {
   "display_name": "Python 3",
   "language": "python",
   "name": "python3"
  },
  "language_info": {
   "codemirror_mode": {
    "name": "ipython",
    "version": 3
   },
   "file_extension": ".py",
   "mimetype": "text/x-python",
   "name": "python",
   "nbconvert_exporter": "python",
   "pygments_lexer": "ipython3",
   "version": "3.8.5"
  }
 },
 "nbformat": 4,
 "nbformat_minor": 5
}
